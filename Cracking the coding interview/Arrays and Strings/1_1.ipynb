{
 "cells": [
  {
   "cell_type": "markdown",
   "id": "f006c122",
   "metadata": {
    "ExecuteTime": {
     "end_time": "2022-01-25T00:28:59.710561Z",
     "start_time": "2022-01-25T00:28:59.693688Z"
    }
   },
   "source": [
    "# 1.1 Implement an algorithm to determine if a string has all unique characters. What if you cannot use additional data structures?"
   ]
  },
  {
   "cell_type": "code",
   "execution_count": 43,
   "id": "2be24ba9",
   "metadata": {
    "ExecuteTime": {
     "end_time": "2022-01-25T01:29:47.768012Z",
     "start_time": "2022-01-25T01:29:47.756904Z"
    }
   },
   "outputs": [],
   "source": [
    "a = 'sbdar gkh'"
   ]
  },
  {
   "cell_type": "markdown",
   "id": "d64d9986",
   "metadata": {},
   "source": [
    "## Using array"
   ]
  },
  {
   "cell_type": "code",
   "execution_count": 44,
   "id": "2ee4b390",
   "metadata": {
    "ExecuteTime": {
     "end_time": "2022-01-25T01:29:48.307500Z",
     "start_time": "2022-01-25T01:29:48.302011Z"
    }
   },
   "outputs": [],
   "source": [
    "def is_unique(string):\n",
    "    tmp = []\n",
    "    for i in string:\n",
    "        if i not in tmp:\n",
    "            tmp.append(i)\n",
    "        else:\n",
    "            return False\n",
    "    return True"
   ]
  },
  {
   "cell_type": "code",
   "execution_count": 45,
   "id": "f0b47c26",
   "metadata": {
    "ExecuteTime": {
     "end_time": "2022-01-25T01:29:48.529453Z",
     "start_time": "2022-01-25T01:29:48.521245Z"
    }
   },
   "outputs": [
    {
     "data": {
      "text/plain": [
       "True"
      ]
     },
     "execution_count": 45,
     "metadata": {},
     "output_type": "execute_result"
    }
   ],
   "source": [
    "is_unique(a)"
   ]
  },
  {
   "cell_type": "markdown",
   "id": "075c7840",
   "metadata": {},
   "source": [
    "## Check the list of string to its set"
   ]
  },
  {
   "cell_type": "code",
   "execution_count": 46,
   "id": "96890397",
   "metadata": {
    "ExecuteTime": {
     "end_time": "2022-01-25T01:29:48.904997Z",
     "start_time": "2022-01-25T01:29:48.897325Z"
    }
   },
   "outputs": [],
   "source": [
    "def is_unique2(string):\n",
    "    if len(list(string))==len(set(string)):\n",
    "        return True\n",
    "    return False"
   ]
  },
  {
   "cell_type": "code",
   "execution_count": 47,
   "id": "6d5a502f",
   "metadata": {
    "ExecuteTime": {
     "end_time": "2022-01-25T01:29:49.088088Z",
     "start_time": "2022-01-25T01:29:49.078874Z"
    }
   },
   "outputs": [
    {
     "data": {
      "text/plain": [
       "True"
      ]
     },
     "execution_count": 47,
     "metadata": {},
     "output_type": "execute_result"
    }
   ],
   "source": [
    "is_unique2(a)"
   ]
  },
  {
   "cell_type": "markdown",
   "id": "a23139dc",
   "metadata": {},
   "source": [
    "## Using bitwise operation"
   ]
  },
  {
   "cell_type": "code",
   "execution_count": 48,
   "id": "4a8579ef",
   "metadata": {
    "ExecuteTime": {
     "end_time": "2022-01-25T01:29:49.591322Z",
     "start_time": "2022-01-25T01:29:49.580836Z"
    }
   },
   "outputs": [],
   "source": [
    "def is_unique3(string):\n",
    "    if len(string) > 128:\n",
    "        return False\n",
    "    checker = 0\n",
    "    for i in string:\n",
    "        val = ord(i)\n",
    "        if (checker & (1 << val)) > 0:\n",
    "            return False\n",
    "        checker |= 1 << val\n",
    "    return True"
   ]
  },
  {
   "cell_type": "code",
   "execution_count": 49,
   "id": "0d9d5621",
   "metadata": {
    "ExecuteTime": {
     "end_time": "2022-01-25T01:29:49.853330Z",
     "start_time": "2022-01-25T01:29:49.842827Z"
    }
   },
   "outputs": [
    {
     "data": {
      "text/plain": [
       "True"
      ]
     },
     "execution_count": 49,
     "metadata": {},
     "output_type": "execute_result"
    }
   ],
   "source": [
    "is_unique3(a)"
   ]
  }
 ],
 "metadata": {
  "kernelspec": {
   "display_name": "Python 3 (ipykernel)",
   "language": "python",
   "name": "python3"
  },
  "language_info": {
   "codemirror_mode": {
    "name": "ipython",
    "version": 3
   },
   "file_extension": ".py",
   "mimetype": "text/x-python",
   "name": "python",
   "nbconvert_exporter": "python",
   "pygments_lexer": "ipython3",
   "version": "3.8.8"
  }
 },
 "nbformat": 4,
 "nbformat_minor": 5
}
